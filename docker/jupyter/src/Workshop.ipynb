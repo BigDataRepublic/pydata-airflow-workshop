{
 "cells": [
  {
   "cell_type": "markdown",
   "metadata": {},
   "source": [
    "# Scheduling Machine Learning Pipelines using Apache Airflow\n",
    "\n",
    "In this workshop, you will use Airflow to schedule a basic machine learning pipeline. The workshop consists of 3 assignments.\n",
    "1. Schedule a basic 'print_hello world' example on Airflow\n",
    "2. Schedule a machine learning pipeline on Airflow\n",
    "3. Improve the the pipeline by creating your own custom Airflow operator"
   ]
  },
  {
   "cell_type": "code",
   "execution_count": null,
   "metadata": {},
   "outputs": [],
   "source": []
  }
 ],
 "metadata": {
  "kernelspec": {
   "display_name": "Python 3",
   "language": "python",
   "name": "python3"
  },
  "language_info": {
   "codemirror_mode": {
    "name": "ipython",
    "version": 3
   },
   "file_extension": ".py",
   "mimetype": "text/x-python",
   "name": "python",
   "nbconvert_exporter": "python",
   "pygments_lexer": "ipython3",
   "version": "3.6.7"
  }
 },
 "nbformat": 4,
 "nbformat_minor": 2
}
