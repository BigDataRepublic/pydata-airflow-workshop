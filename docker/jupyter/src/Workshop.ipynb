{
 "cells": [
  {
   "cell_type": "markdown",
   "metadata": {},
   "source": [
    "# Scheduling Machine Learning Pipelines using Apache Airflow\n",
    "\n",
    "In this workshop, you will use Airflow to schedule a basic machine learning pipeline. The workshop consists of 3 assignments.\n",
    "\n",
    "1. Schedule a basic 'hello world' example on Airflow\n",
    "2. Schedule a machine learning pipeline on Airflow\n",
    "3. Improve the the pipeline by creating your own custom Airflow operator\n",
    "\n",
    "Along the way, you will come across these blockquotes (as shown below). In there, we provide supplemental information related to the assignments you are doing. This information is not necessary to understand the assignment, but offers additional reading material for Aiflow enthousiasts.\n",
    "\n",
    "> This is a blockquote with supplemental information!\n",
    "\n",
    "You are provided with a random username for this workshop. This username is used to interact with the resources on AWS. Your user can be retrieved from the environment variable `WORKSHOP_USER`. Execute the cell below to find out your user"
   ]
  },
  {
   "cell_type": "code",
   "execution_count": null,
   "metadata": {},
   "outputs": [],
   "source": [
    "import os\n",
    "\n",
    "os.environ['WORKSHOP_USER']"
   ]
  },
  {
   "cell_type": "markdown",
   "metadata": {},
   "source": [
    "## Assignment 1: Hello World\n",
    "\n",
    "In this assignment, we are going to schedule a simple workflow on Airflow to get used with the concepts. Airflow uses the following concepts for worfklows:\n",
    "\n",
    "- DAG ([directed acyclic graph](https://en.wikipedia.org/wiki/Directed_acyclic_graph)): a description of the order in which work should take place\n",
    "- Operator: a class that acts as a template for carrying out some work\n",
    "- Task: a parameterized instance of an operator\n",
    "- Task Instance: a task that \n",
    "     1. has been assigned to a DAG and \n",
    "     2. has a state associated with a specific run of the DAG\n",
    "\n",
    "The code below defines a DAG (directed acyclic graph) in Airflow. The DAG has the following properties:\n",
    "\n",
    "- The DAG starts on 2019-11-27 and runs every day at midnight\n",
    "- This DAG covers 2 tasks. 1 of them is an instance of [`PythonOperator`](https://github.com/apache/airflow/blob/1.10.4/airflow/operators/python_operator.py)s, and 1 is an instance of the [`BashOperator`](https://github.com/apache/airflow/blob/1.10.4/airflow/operators/bash_operator.py). Both tasks will simply print a word to the logs.\n",
    "- Task 'print_hello' runs first. Then, task 'print_world' will run \n",
    "\n",
    "Inspect the code and try to understand how the properties above are defined:"
   ]
  },
  {
   "cell_type": "code",
   "execution_count": null,
   "metadata": {},
   "outputs": [],
   "source": [
    "import datetime\n",
    "from airflow.models import DAG\n",
    "from airflow.operators.python_operator import PythonOperator\n",
    "from airflow.operators.bash_operator import BashOperator\n",
    "\n",
    "with DAG(\n",
    "    dag_id='hello_world',\n",
    "    schedule_interval='@daily',\n",
    "    start_date=datetime.datetime(2019, 11, 6) \n",
    ") as dag:\n",
    "    print_hello_operator = PythonOperator(\n",
    "        task_id='print_hello', \n",
    "        python_callable=print, \n",
    "        op_args=['hello'] \n",
    "    )\n",
    "    \n",
    "    print_world_operator = BashOperator(\n",
    "        task_id='print_world',\n",
    "        bash_command='echo world'\n",
    "    )\n",
    "    \n",
    "    print_hello_operator >> print_world_operator"
   ]
  },
  {
   "cell_type": "markdown",
   "metadata": {},
   "source": [
    "> In this DAG, we use de `'@daily'` schedule interval, which means that the DAG will run every day at midnight. For more complex scheduling, a [cron expression](https://en.wikipedia.org/wiki/Cron#CRON_expression) can be used. \n",
    "\n",
    "> The bitshift operator `>>` is overloaded for operators in Airflow. It is used to define dependencies between tasks in a DAG. For more information about defining relationships between tasks, check out the [bitshift composition](https://airflow.apache.org/concepts.html#bitshift-composition) and [relationship helper](https://airflow.apache.org/concepts.html#relationship-helper) in the Airflow documentation.\n",
    "\n",
    "This is everything we need to do to define a DAG that can be scheduled on Airflow. Because DAGs are defined using Python, we have a lot of freedom in how we want to design our DAG. We could, for example, dynamically create tasks by looping over lists. Furthermore, defining your DAGs as code makes it it easy to keep track on their version in a source code management system. \n",
    "\n",
    "The next step is to actually run this example on Airflow. The Airflow scheduler periodically scans a folder, called 'the DagBag', for files that define DAGs. There is a folder in this jupyter notebook server, called `dags`, which is also present at the airflow scheduler via a network file system. Any python file that we put there, will be picked up by the scheduler.\n",
    "\n",
    "- Copy the code snippet above. Go to the dags folder in the file explorer, press the 'New' button in the upper right corner, and create a **Text File**. Name it `hello_world.py`. The name of the file is flexible, but should end with `.py`. Paste the copied code inside.\n",
    "- Go to port 8080 of your personal load balancer (you are now on 8888). Your DAG should appear within a few minutes.\n",
    "- The DAG is turned off at first. Turn it on and frequently refresh the page to see what happens. In the 'Recent Tasks' and 'DAG Runs' columns, you will see the circles changing. Hover over them to see what they mean. After a while, only the leftmost, dark green circles are filled. They show that all tasks and DAGs have completed successfully.\n",
    "- Click on 'hello_world' in the 'DAG' column. You are brought to the tree view, showing all DAG runs and task instances and their status. They are all dark green, meaning they all completed successfully. \n",
    "- Press the lower left square, which is the 'print_hello' task instance of the DAG run of 27-11-2019. You will see a menu with various actions that can be performed on the task instance. Press 'View Log'. This brings you to the logs produced by the task instance. We can also see that is has printed 'hello', as we expected from this task instance.\n",
    "- Click on 'Graph View'. Here we can see the graphical representation of our DAG. We can see that 'print_hello' is followed by 'print_world', as we defined this in the DAG definition above.\n",
    "\n",
    "Congratulations, you have scheduled your first DAG on Airflow, and learned the basic features of the Airflow UI. This DAG does not do anything useful yet though. In the next assignment, we will create a DAG that will process actual data."
   ]
  },
  {
   "cell_type": "markdown",
   "metadata": {},
   "source": [
    "## Assignment 2: Machine Learning Pipeline\n",
    "\n",
    "In this assignment, we will create an Airflow DAG to schedule a basic machine learning pipeline. The pipeline will use the famous Iris dataset and consists of 2 steps:\n",
    "\n",
    "1. Preprocess the dataset by adding some new features\n",
    "2. Train a predictive model on the dataset\n",
    "\n",
    "The goal is to schedule this training pipeline on a regular interval. This makes sure your model gets updated frequently with the latest data. \n",
    "\n",
    "> In this example, we will use the same dataset for every run, but in reality you would like to use a new dataset every time the pipeline is run. This can be done using Airflow's [templating](https://airflow.apache.org/macros.html) mechanism.\n",
    "\n",
    "You are provided with 2 scripts located in the folder `transform_scripts`, called. Each script transforms an input file and stores it in an output file. The locations of the input and output files are provided as arguments to the scripts. The first script, `preprocess.py`, takes a CSV with raw training data, and outputs a CSV with preprocessed training data. The second script, `train.py`, takes a CSV with preprocessed training data, and outputs a pickled machine learning model. Also, you are provided with an S3 bucket containing our raw training data. Our DAG should to the following:\n",
    "\n",
    "1. Retrieve the raw training data from S3, apply the `preprocess.py` transform script to it, and send the preprocessed CSV back to S3\n",
    "2. Retrieve the preprocessed training data from S3, apply the `train.py` transform script to it, and send the pickled model to S3\n",
    "\n",
    "Airflow's built-in [`S3FileTransformOperator`](https://github.com/apache/airflow/blob/1.10.4/airflow/operators/s3_file_transform_operator.py) will do exactly what we want. The operator does the following things:\n",
    "\n",
    "1. Download a file from S3 to a temporary file on the Airflow worker machine\n",
    "2. Apply a transform script to the file, producing a new, temporary file\n",
    "3. Upload the output file to S3\n",
    "\n",
    "Inspect the DAG below. It uses the `S3FileTransformOperator` to first preprocess the data, and then train the model. We see that the connection ID's to S3 are set to `'s3'`. Airflow has a feature that allows one to safely store connection information to external systems in the Airflow database. The connection to your bucket is already setup for you, and has the name 's3'. This name is specified in the operators, to let Airflow know which connection to use. \n",
    "\n",
    "Your own S3 bucket for this workshop is already configured in the DAG definition. As in assignment 1, copy the contents of the cell below. In the `dags` folder, create a new file called `ml_pipeline.py`, and paste the copied content inside. This DAG also uses the transform scripts. Therefore, we also need to move the `transform_scripts` folder into the `dags` folder. This can be done in the file explorer of Jupyter, or by executing the cell below."
   ]
  },
  {
   "cell_type": "code",
   "execution_count": null,
   "metadata": {},
   "outputs": [],
   "source": [
    "!cp -R transform_scripts dags/transform_scripts"
   ]
  },
  {
   "cell_type": "code",
   "execution_count": null,
   "metadata": {},
   "outputs": [],
   "source": [
    "import datetime\n",
    "from airflow.models import DAG\n",
    "from airflow.operators.s3_file_transform_operator import S3FileTransformOperator\n",
    "import os\n",
    "\n",
    "user = os.environ['WORKSHOP_USER']\n",
    "bucket = f'pydata-eindhoven-2019-airflow-{user}'\n",
    "\n",
    "with DAG(\n",
    "    dag_id='ml_pipeline',\n",
    "    schedule_interval='@daily',\n",
    "    start_date=datetime.datetime(2019, 11, 6)\n",
    ") as dag:\n",
    "    preprocess_operator = S3FileTransformOperator(\n",
    "        task_id='preprocess',\n",
    "        transform_script='transform_scripts/preprocess.py',\n",
    "        source_s3_key=f's3://{bucket}/raw_training_data.csv',\n",
    "        dest_s3_key=f's3://{bucket}/preprocessed_training_data.csv',\n",
    "        source_aws_conn_id='s3',\n",
    "        dest_aws_conn_id='s3',\n",
    "        replace=True\n",
    "    )\n",
    "\n",
    "    train_operator = S3FileTransformOperator(\n",
    "        task_id='train',\n",
    "        transform_script='transform_scripts/train.py',\n",
    "        source_s3_key=f's3://{bucket}/preprocessed_training_data.csv',\n",
    "        dest_s3_key=f's3://{bucket}/trained_model.pkl',\n",
    "        source_aws_conn_id='s3',\n",
    "        dest_aws_conn_id='s3',\n",
    "        replace=True\n",
    "    )\n",
    "\n",
    "    preprocess_operator >> train_operator"
   ]
  },
  {
   "cell_type": "markdown",
   "metadata": {},
   "source": [
    "In the Airflow UI, on port 8080, you should see your second DAG appear very soon. As in the first assignment, turn it on and refresh regularly to see the DAG runs succeed.\n",
    "\n",
    "> We ran this pipeline on a single machine for this workshop. For large datasets or a large number of jobs, this does not scale well. Since Airflow is not a big data processing tool, a recommendation is to push computation to external systems as much as possible. For this example, we could decide to run our workload for example [AWS Sagemaker](https://aws.amazon.com/sagemaker/). \n",
    ">\n",
    "> Also, Airflow provides various options for making it scalable. An example is the Kubernetes executor, which will spawn Kubernetes pods for every task instances ran. This allows Airflow to schedule a large number of parallel tasks, with as much resources as required for the task. To get started with this, check out [this blog](https://towardsdatascience.com/kubernetesexecutor-for-airflow-e2155e0f909c) by Brecht de Vlieger.\n",
    "\n",
    "Now that the DAG runs are finished, we can check which files are generated on S3. We can use [boto3](https://boto3.amazonaws.com/v1/documentation/api/latest/index.html?id=docs_gateway) to list the resources contained in our S3 bucket. This is done in the code snippet below. Execute the code below to find out the contents of your bucket."
   ]
  },
  {
   "cell_type": "code",
   "execution_count": null,
   "metadata": {},
   "outputs": [],
   "source": [
    "import boto3\n",
    "import os\n",
    "\n",
    "user = os.environ['WORKSHOP_USER']\n",
    "bucket = f'pydata-eindhoven-2019-airflow-{user}'\n",
    "\n",
    "client = boto3.client('s3', region_name='eu-west-1')\n",
    "\n",
    "[o['Key'] for o in client.list_objects(Bucket=bucket)['Contents']]"
   ]
  },
  {
   "cell_type": "markdown",
   "metadata": {},
   "source": [
    "As we can see, the raw data file is there, as well as the newly created preprocessed data and pickled model files. Since we kept the file names constant, the second DAG run has overwritten the files of the first DAG run. \n",
    "\n",
    "In this exercise, we have scheduled a machine learning pipeline, which transforms raw training data into a trained model. This model could now be served somewhere (i.e. using a web service), or used to make batch predictions (i.e. with Airflow).\n",
    "\n",
    "The next assignment is a bonus assignment, where you will improve the pipeline above by creating your own Airflow operator."
   ]
  },
  {
   "cell_type": "markdown",
   "metadata": {},
   "source": [
    "## \\[BONUS\\] Assignment 3: Custom Operator\n",
    "\n",
    "In the previous assigment, we have used the `S3FileTransformOperator` to transform our raw training data into a trained model. The second transform script loads a CSV file into a pandas dataframe, fits a model using this data, and writes the trained model to a pickle. These steps are very generic and will be performed by many ML pipelines built on Airflow. The only custom logic is the `train_model` function. When using the `S3FileTransformOperator`, everyone who wants to train a model has to write the generic code over and over again. This is not very elegant, more work, and error prone.\n",
    "\n",
    "In this assignment, we will adapt the `S3FileTransformOperator`, such that all generic code is abstracted away. We want to create an operator which only requires a CSV on S3, a model training function, and a location on S3 to write the pickled model to. Let's call this operator the `S3ModelTrainigOperator`. In our DAG definition, we could use this operator as follows:"
   ]
  },
  {
   "cell_type": "code",
   "execution_count": null,
   "metadata": {},
   "outputs": [],
   "source": [
    "# This code does not work, as we did not actually create the operator and train_model function yet.\n",
    "\n",
    "train_operator = S3ModelTrainingOperator(\n",
    "    task_id='train',\n",
    "    python_callable=train_model,\n",
    "    source_s3_key='s3://path-to-our-training-data.csv',\n",
    "    dest_s3_key='s3://path-to-our-pickled-model.pkl',\n",
    "    source_aws_conn_id='s3',\n",
    "    dest_aws_conn_id='s3',\n",
    "    replace=True\n",
    ")"
   ]
  },
  {
   "cell_type": "markdown",
   "metadata": {},
   "source": [
    "We changed the `transform_script` parameter of the `S3FileTransformOperator` to `python_callable`, where we can provide our model training function. Now, we need to create the `S3ModelTrainingOperator` class. Let's take the `S3FileTransformOperator` code as inspiration. The code can be found [here](https://github.com/apache/airflow/blob/1.10.4/airflow/operators/s3_file_transform_operator.py).\n",
    "\n",
    "The `S3FileTransformOperator` class, like every operator class, inherits from Airflow's `BaseOperator`. It has an `__init__` method, where our parameters are set, and an `execute` method, inherited from `BaseOperator`, which is executed when Airflow runs a task instance of this operator. Inside the `execute` method, in the indented block from line 141 to 163, the transform script is executed. This will be the part we need to change.\n",
    "\n",
    "\n",
    "In the `__init__` method, we have to add the `python_callable` argument instead of `transform_script`. In `execute`, instead of calling the transform script, we have to \n",
    "\n",
    "1. Read a CSV file into a pandas dataframe\n",
    "2. Call the `python_callable` provided in the `__init__` method\n",
    "3. Pickle the trained model and write it to a file\n",
    "\n",
    "The adapted operator can be found in `operators/model_training.py`. The remaining custom `train_model` function can be found in `functions/train_model.py`.\n",
    "\n",
    "We will now use these in our final DAG. To run it, we need to move it again to the `dags` folder, along with its dependencies. The dependencies can be copied with the command below. Copy the DAG as you did with the others; by creating a **Text File** called `custom_operator.py` in the `dags` folder. Start the DAG again once it appears in the Airflow UI, and watch the tasks turn green."
   ]
  },
  {
   "cell_type": "code",
   "execution_count": null,
   "metadata": {},
   "outputs": [],
   "source": [
    "!cp -R functions dags/functions\n",
    "!cp -R operators dags/operators"
   ]
  },
  {
   "cell_type": "code",
   "execution_count": null,
   "metadata": {},
   "outputs": [],
   "source": [
    "import datetime\n",
    "from airflow.models import DAG\n",
    "from airflow.operators.s3_file_transform_operator import S3FileTransformOperator\n",
    "import sys\n",
    "import os\n",
    "\n",
    "# this is required such that Airflow can do relative imports\n",
    "sys.path.append(os.path.dirname(__file__))\n",
    "\n",
    "from operators.model_training import S3ModelTrainingOperator\n",
    "from functions.train_model import train_model\n",
    "\n",
    "user = os.environ['WORKSHOP_USER']\n",
    "bucket = f'pydata-eindhoven-2019-airflow-{user}'\n",
    "\n",
    "with DAG(\n",
    "    dag_id='custom_operator',\n",
    "    schedule_interval='@daily',\n",
    "    start_date=datetime.datetime(2019, 11, 6)\n",
    ") as dag:\n",
    "    preprocess_operator = S3FileTransformOperator(\n",
    "        task_id='preprocess',\n",
    "        transform_script='transform_scripts/preprocess.py',\n",
    "        source_s3_key=f's3://{bucket}/raw_training_data.csv',\n",
    "        dest_s3_key=f's3://{bucket}/preprocessed_training_data.csv',\n",
    "        source_aws_conn_id='s3',\n",
    "        dest_aws_conn_id='s3',\n",
    "        replace=True\n",
    "    )\n",
    "\n",
    "    train_operator = S3ModelTrainingOperator(\n",
    "        task_id='train',\n",
    "        python_callable=train_model,\n",
    "        source_s3_key=f's3://{bucket}/preprocessed_training_data.csv',\n",
    "        dest_s3_key=f's3://{bucket}/trained_model.pkl',\n",
    "        source_aws_conn_id='s3',\n",
    "        dest_aws_conn_id='s3',\n",
    "        replace=True\n",
    "    )\n",
    "    \n",
    "    preprocess_operator >> train_operator"
   ]
  },
  {
   "cell_type": "markdown",
   "metadata": {},
   "source": [
    "In this assignment you created your own Airflow operator. The only thing you needed to do was to inherit from `BaseOperator` and override the `execute` method. In the example above, we abstracted away a lot of the boilerplate code in our model training script."
   ]
  },
  {
   "cell_type": "markdown",
   "metadata": {},
   "source": [
    "## Summary\n",
    "\n",
    "In this workshop, you learned what Airflow is, how to schedule your own Workflows with it, and how to use it for training machine learning models. As a bonus, you learned how to create your own operators that hold custom logic for the tasks you need to execute. This notebook contains various resources for further reading, in case you are interested. For questions, feel free to reach out to us.\n",
    "\n",
    "Axel Goblet (axel.goblet@bigdatarepublic.nl)\n",
    "\n",
    "Dick Abma (dick.abma@bigdatarepublic.nl)\n",
    "\n",
    "https://www.bigdatarepublic.nl/\n",
    "\n",
    "![](https://www.bigdatarepublic.nl/wp-content/uploads/2019/05/BDR_Logo_RGB_no_whitespace.jpg)"
   ]
  },
  {
   "cell_type": "code",
   "execution_count": null,
   "metadata": {},
   "outputs": [],
   "source": []
  }
 ],
 "metadata": {
  "kernelspec": {
   "display_name": "Python 3",
   "language": "python",
   "name": "python3"
  },
  "language_info": {
   "codemirror_mode": {
    "name": "ipython",
    "version": 3
   },
   "file_extension": ".py",
   "mimetype": "text/x-python",
   "name": "python",
   "nbconvert_exporter": "python",
   "pygments_lexer": "ipython3",
   "version": "3.6.7"
  },
  "pycharm": {
   "stem_cell": {
    "cell_type": "raw",
    "metadata": {
     "collapsed": false
    },
    "source": []
   }
  }
 },
 "nbformat": 4,
 "nbformat_minor": 2
}
